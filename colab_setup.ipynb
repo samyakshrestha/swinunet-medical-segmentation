{
  "nbformat": 4,
  "nbformat_minor": 0,
  "metadata": {
    "colab": {
      "provenance": [],
      "authorship_tag": "ABX9TyOyC6kjFD4BIxQ035znPCDu",
      "include_colab_link": true
    },
    "kernelspec": {
      "name": "python3",
      "display_name": "Python 3"
    },
    "language_info": {
      "name": "python"
    }
  },
  "cells": [
    {
      "cell_type": "markdown",
      "metadata": {
        "id": "view-in-github",
        "colab_type": "text"
      },
      "source": [
        "<a href=\"https://colab.research.google.com/github/samyakshrestha/swinunet-medical-segmentation/blob/main/notebooks/colab_setup.ipynb\" target=\"_parent\"><img src=\"https://colab.research.google.com/assets/colab-badge.svg\" alt=\"Open In Colab\"/></a>"
      ]
    },
    {
      "cell_type": "code",
      "execution_count": null,
      "metadata": {
        "id": "PuzO9XGd2BBF"
      },
      "outputs": [],
      "source": [
        "%cd /content/drive/MyDrive/swinunet-medical-segmentation"
      ]
    },
    {
      "cell_type": "code",
      "source": [],
      "metadata": {
        "id": "RwqzTZvyTyS4"
      },
      "execution_count": null,
      "outputs": []
    }
  ]
}